{
 "cells": [
  {
   "cell_type": "raw",
   "id": "dd55b569-cd6e-461c-9ff3-8c5e72614897",
   "metadata": {},
   "source": [
    "Q1. What is an Exception in Python? Write the Difference Between Exceptions and Syntax Errors\n",
    "Exception: An exception is an error that occurs during program execution, disrupting the normal flow of the program.\n",
    "\n",
    "Difference:\n",
    "\n",
    "Exceptions: Occur during execution (e.g., dividing by zero) and can be caught and handled.\n",
    "Syntax Errors: Occur due to incorrect syntax and prevent the program from running. They must be fixed before execution.\n",
    "\n",
    "\n",
    "Q2. What Happens When an Exception is Not Handled? Explain with an Example\n",
    "If an exception is not handled, the program stops execution and displays an error message."
   ]
  },
  {
   "cell_type": "code",
   "execution_count": 1,
   "id": "ab3b4f17-f826-45f7-a61d-182f4ea11202",
   "metadata": {},
   "outputs": [
    {
     "ename": "ZeroDivisionError",
     "evalue": "division by zero",
     "output_type": "error",
     "traceback": [
      "\u001b[0;31m---------------------------------------------------------------------------\u001b[0m",
      "\u001b[0;31mZeroDivisionError\u001b[0m                         Traceback (most recent call last)",
      "Cell \u001b[0;32mIn[1], line 4\u001b[0m\n\u001b[1;32m      1\u001b[0m \u001b[38;5;28;01mdef\u001b[39;00m \u001b[38;5;21mdivide\u001b[39m(x, y):\n\u001b[1;32m      2\u001b[0m     \u001b[38;5;28;01mreturn\u001b[39;00m x \u001b[38;5;241m/\u001b[39m y\n\u001b[0;32m----> 4\u001b[0m \u001b[38;5;28mprint\u001b[39m(\u001b[43mdivide\u001b[49m\u001b[43m(\u001b[49m\u001b[38;5;241;43m10\u001b[39;49m\u001b[43m,\u001b[49m\u001b[43m \u001b[49m\u001b[38;5;241;43m0\u001b[39;49m\u001b[43m)\u001b[49m)  \u001b[38;5;66;03m# Raises ZeroDivisionError and terminates the program.\u001b[39;00m\n",
      "Cell \u001b[0;32mIn[1], line 2\u001b[0m, in \u001b[0;36mdivide\u001b[0;34m(x, y)\u001b[0m\n\u001b[1;32m      1\u001b[0m \u001b[38;5;28;01mdef\u001b[39;00m \u001b[38;5;21mdivide\u001b[39m(x, y):\n\u001b[0;32m----> 2\u001b[0m     \u001b[38;5;28;01mreturn\u001b[39;00m \u001b[43mx\u001b[49m\u001b[43m \u001b[49m\u001b[38;5;241;43m/\u001b[39;49m\u001b[43m \u001b[49m\u001b[43my\u001b[49m\n",
      "\u001b[0;31mZeroDivisionError\u001b[0m: division by zero"
     ]
    }
   ],
   "source": [
    "def divide(x, y):\n",
    "    return x / y\n",
    "\n",
    "print(divide(10, 0))  # Raises ZeroDivisionError and terminates the program.\n"
   ]
  },
  {
   "cell_type": "raw",
   "id": "426a3762-2247-40eb-b336-ea99c9fdb3f4",
   "metadata": {},
   "source": [
    "Q3. Which Python Statements are Used to Catch and Handle Exceptions? Explain with an Example\n",
    "The statements used are try, except, else, and finally."
   ]
  },
  {
   "cell_type": "code",
   "execution_count": 2,
   "id": "ea064c3a-d34a-43bd-9417-62fd74cd7b1b",
   "metadata": {},
   "outputs": [
    {
     "name": "stdout",
     "output_type": "stream",
     "text": [
      "Cannot divide by zero.\n",
      "Execution completed.\n"
     ]
    }
   ],
   "source": [
    "try:\n",
    "    result = 10 / 0\n",
    "except ZeroDivisionError:\n",
    "    print(\"Cannot divide by zero.\")\n",
    "else:\n",
    "    print(\"Division successful.\")\n",
    "finally:\n",
    "    print(\"Execution completed.\")\n"
   ]
  },
  {
   "cell_type": "raw",
   "id": "45368f8d-4a29-4b5e-9071-b77790358583",
   "metadata": {},
   "source": [
    "try: Code that may raise an exception.\n",
    "except: Code that handles the exception.\n",
    "else: Code that runs if no exception occurs.\n",
    "finally: Code that always runs, regardless of exceptions."
   ]
  },
  {
   "cell_type": "raw",
   "id": "942e67cf-a68f-4cca-ac7e-dc021dbc910d",
   "metadata": {},
   "source": [
    "Q4. Explain with an Example: try, except, else, finally, and raise"
   ]
  },
  {
   "cell_type": "code",
   "execution_count": 3,
   "id": "e1a459ce-beb0-46d6-91e7-d77c503a2a00",
   "metadata": {},
   "outputs": [
    {
     "name": "stdout",
     "output_type": "stream",
     "text": [
      "Division successful. Result: 5.0\n",
      "Execution completed.\n",
      "Cannot divide by zero.\n",
      "Execution completed.\n"
     ]
    }
   ],
   "source": [
    "class CustomError(Exception):\n",
    "    pass\n",
    "\n",
    "def divide(x, y):\n",
    "    try:\n",
    "        if y == 0:\n",
    "            raise CustomError(\"Cannot divide by zero.\")\n",
    "        result = x / y\n",
    "    except CustomError as e:\n",
    "        print(e)\n",
    "    else:\n",
    "        print(\"Division successful. Result:\", result)\n",
    "    finally:\n",
    "        print(\"Execution completed.\")\n",
    "\n",
    "divide(10, 2)  # Normal execution\n",
    "divide(10, 0)  # Raises CustomError\n"
   ]
  },
  {
   "cell_type": "raw",
   "id": "9d8d51b0-86aa-4b5f-996d-84c5b49dc13b",
   "metadata": {},
   "source": [
    "Q5. What Are Custom Exceptions in Python? Why Do We Need Custom Exceptions? Explain with an Example\n",
    "Custom Exceptions: User-defined exceptions for specific error types.\n",
    "\n",
    "Need: They allow for more precise error handling and better code clarity."
   ]
  },
  {
   "cell_type": "code",
   "execution_count": 4,
   "id": "33f795db-43ed-49a8-829b-ee9463a33d76",
   "metadata": {},
   "outputs": [
    {
     "name": "stdout",
     "output_type": "stream",
     "text": [
      "Cannot compute square root of a negative number.\n"
     ]
    }
   ],
   "source": [
    "class NegativeNumberError(Exception):\n",
    "    pass\n",
    "\n",
    "def sqrt(x):\n",
    "    if x < 0:\n",
    "        raise NegativeNumberError(\"Cannot compute square root of a negative number.\")\n",
    "    return x ** 0.5\n",
    "\n",
    "try:\n",
    "    print(sqrt(-1))\n",
    "except NegativeNumberError as e:\n",
    "    print(e)\n"
   ]
  },
  {
   "cell_type": "raw",
   "id": "839a9500-913f-4652-9615-0ecc92522803",
   "metadata": {},
   "source": [
    "Q6. Create a Custom Exception Class. Use This Class to Handle an Exception\n",
    "Custom Exception Class:"
   ]
  },
  {
   "cell_type": "code",
   "execution_count": 5,
   "id": "9f361563-3eeb-4d64-802e-83a3f4ac5808",
   "metadata": {},
   "outputs": [
    {
     "name": "stdout",
     "output_type": "stream",
     "text": [
      "Age cannot be negative.\n"
     ]
    }
   ],
   "source": [
    "class InvalidAgeError(Exception):\n",
    "    def __init__(self, message):\n",
    "        self.message = message\n",
    "        super().__init__(self.message)\n",
    "\n",
    "def check_age(age):\n",
    "    if age < 0:\n",
    "        raise InvalidAgeError(\"Age cannot be negative.\")\n",
    "    elif age < 18:\n",
    "        print(\"You are a minor.\")\n",
    "    else:\n",
    "        print(\"You are an adult.\")\n",
    "\n",
    "try:\n",
    "    check_age(-5)\n",
    "except InvalidAgeError as e:\n",
    "    print(e)\n"
   ]
  },
  {
   "cell_type": "code",
   "execution_count": null,
   "id": "6bd7309c-7484-436b-816b-0e459014bb47",
   "metadata": {},
   "outputs": [],
   "source": []
  }
 ],
 "metadata": {
  "kernelspec": {
   "display_name": "Python 3 (ipykernel)",
   "language": "python",
   "name": "python3"
  },
  "language_info": {
   "codemirror_mode": {
    "name": "ipython",
    "version": 3
   },
   "file_extension": ".py",
   "mimetype": "text/x-python",
   "name": "python",
   "nbconvert_exporter": "python",
   "pygments_lexer": "ipython3",
   "version": "3.10.8"
  }
 },
 "nbformat": 4,
 "nbformat_minor": 5
}
