{
 "cells": [
  {
   "cell_type": "raw",
   "id": "da6847d2-203c-48ea-9fa6-d0a5025ae333",
   "metadata": {},
   "source": [
    "Q1. What is a Database? Differentiate Between SQL and NoSQL Databases.\n",
    "Database: An organized collection of data stored and managed electronically.\n",
    "SQL Databases: Use structured queries, have a fixed schema, and are ACID compliant (e.g., MySQL, PostgreSQL).\n",
    "NoSQL Databases: Flexible schema, varied data models, and eventual consistency (e.g., MongoDB, Redis).\n",
    "\n",
    "Q2. What is DDL? Explain Why CREATE, DROP, ALTER, and TRUNCATE are Used with an Example.\n",
    "\n",
    "DDL (Data Definition Language): Commands for defining database structure.\n",
    "CREATE: Adds new objects. Example: CREATE TABLE Employees (ID INT PRIMARY KEY, Name VARCHAR(100));\n",
    "DROP: Deletes objects. Example: DROP TABLE Employees;\n",
    "ALTER: Modifies objects. Example: ALTER TABLE Employees ADD COLUMN Salary DECIMAL(10, 2);\n",
    "TRUNCATE: Removes all records. Example: TRUNCATE TABLE Employees;\n",
    "Q3. What is DML? Explain INSERT, UPDATE, and DELETE with an Example.\n",
    "\n",
    "DML (Data Manipulation Language): Commands for managing data.\n",
    "INSERT: Adds new records. Example: INSERT INTO Employees (ID, Name) VALUES (1, 'John');\n",
    "UPDATE: Modifies records. Example: UPDATE Employees SET Age = 31 WHERE ID = 1;\n",
    "DELETE: Removes records. Example: DELETE FROM Employees WHERE ID = 1;\n",
    "Q4. What is DQL? Explain SELECT with an Example.\n",
    "\n",
    "DQL (Data Query Language): Commands for querying data.\n",
    "SELECT: Retrieves data. Example: SELECT Name, Age FROM Employees WHERE Age > 25;\n",
    "Q5. Explain Primary Key and Foreign Key.\n",
    "\n",
    "Primary Key: Unique identifier for records in a table (e.g., ID in Employees).\n",
    "Foreign Key: Links records between tables (e.g., DeptID in Employees referencing DeptID in Departments).\n",
    "\n",
    "Q6. Write a Python Code to Connect MySQL to Python. Explain the cursor() and execute() Method.\n",
    "python\n",
    "Copy code\n",
    "import mysql.connector\n",
    "\n",
    "conn = mysql.connector.connect(host=\"localhost\", user=\"user\", password=\"pass\", database=\"db\")\n",
    "cursor = conn.cursor()\n",
    "cursor.execute(\"SELECT * FROM Employees\")\n",
    "for row in cursor.fetchall():\n",
    "    print(row)\n",
    "cursor.close()\n",
    "conn.close()\n",
    "cursor(): Creates a cursor object for executing queries.\n",
    "execute(): Executes SQL commands.\n",
    "\n",
    "Q7. Give the Order of Execution of SQL Clauses in an SQL Query.\n",
    "FROM\n",
    "JOIN\n",
    "ON\n",
    "WHERE\n",
    "GROUP BY\n",
    "HAVING\n",
    "SELECT\n",
    "ORDER BY\n",
    "LIMIT/OFFSET"
   ]
  },
  {
   "cell_type": "code",
   "execution_count": null,
   "id": "d584c6cf-0025-441f-bb7c-62cec41155cf",
   "metadata": {},
   "outputs": [],
   "source": []
  }
 ],
 "metadata": {
  "kernelspec": {
   "display_name": "Python 3 (ipykernel)",
   "language": "python",
   "name": "python3"
  },
  "language_info": {
   "codemirror_mode": {
    "name": "ipython",
    "version": 3
   },
   "file_extension": ".py",
   "mimetype": "text/x-python",
   "name": "python",
   "nbconvert_exporter": "python",
   "pygments_lexer": "ipython3",
   "version": "3.10.8"
  }
 },
 "nbformat": 4,
 "nbformat_minor": 5
}
