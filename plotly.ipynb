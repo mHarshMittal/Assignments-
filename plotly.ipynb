{
 "cells": [
  {
   "cell_type": "code",
   "execution_count": null,
   "id": "724c0032-3eef-4279-b9f5-f6d5df4967e0",
   "metadata": {},
   "outputs": [],
   "source": [
    "pip install plotly\n"
   ]
  },
  {
   "cell_type": "code",
   "execution_count": null,
   "id": "b7393a05-02ce-4490-8599-35e3ca45bf21",
   "metadata": {},
   "outputs": [],
   "source": [
    "import seaborn as sns\n",
    "import plotly.express as px\n",
    "\n",
    "# Load the Titanic dataset\n",
    "titanic = sns.load_dataset('titanic')\n",
    "\n",
    "# Plot the scatter plot using Plotly Express\n",
    "fig = px.scatter(titanic, x='age', y='fare', title='Scatter Plot of Age vs Fare', \n",
    "                 labels={'age': 'Age', 'fare': 'Fare'})\n",
    "fig.show()\n"
   ]
  },
  {
   "cell_type": "code",
   "execution_count": null,
   "id": "6fa82f9d-3aff-4a77-a1ce-deb9634f9336",
   "metadata": {},
   "outputs": [],
   "source": [
    "import plotly.express as px\n",
    "\n",
    "# Load the tips dataset from Plotly\n",
    "tips = px.data.tips()\n",
    "\n",
    "# Plot the box plot using Plotly Express\n",
    "fig = px.box(tips, y='total_bill', title='Box Plot of Total Bill')\n",
    "fig.show()\n"
   ]
  },
  {
   "cell_type": "code",
   "execution_count": null,
   "id": "44028be3-4dd1-4197-bd2d-723946978366",
   "metadata": {},
   "outputs": [],
   "source": [
    "import plotly.express as px\n",
    "\n",
    "# Load the tips dataset from Plotly\n",
    "tips = px.data.tips()\n",
    "\n",
    "# Plot the histogram using Plotly Express\n",
    "fig = px.histogram(tips, x='sex', y='total_bill', color='day', pattern_shape='smoker',\n",
    "                   title='Histogram of Total Bill by Sex, Day, and Smoker Status')\n",
    "fig.show()\n"
   ]
  },
  {
   "cell_type": "code",
   "execution_count": null,
   "id": "16fd284f-f3c2-4a4d-8cdc-91054f4c9a41",
   "metadata": {},
   "outputs": [],
   "source": []
  },
  {
   "cell_type": "code",
   "execution_count": null,
   "id": "37bd9b2b-c474-4601-b1e0-fcd6e20353b1",
   "metadata": {},
   "outputs": [],
   "source": [
    "import plotly.express as px\n",
    "\n",
    "# Load the iris dataset from Plotly\n",
    "iris = px.data.iris()\n",
    "\n",
    "# Plot the scatter matrix using Plotly Express\n",
    "fig = px.scatter_matrix(iris, dimensions=['sepal_length', 'sepal_width', 'petal_length', 'petal_width'],\n",
    "                        color='species', title='Scatter Matrix of Iris Dataset')\n",
    "fig.show()\n"
   ]
  },
  {
   "cell_type": "code",
   "execution_count": null,
   "id": "d9aa2ab3-4ffb-4271-8f2f-ebc0a525d433",
   "metadata": {},
   "outputs": [],
   "source": []
  },
  {
   "cell_type": "code",
   "execution_count": null,
   "id": "493ed6cc-6d99-46c1-84ed-fde2339bd7fc",
   "metadata": {},
   "outputs": [],
   "source": [
    "import plotly.express as px\n",
    "\n",
    "# Load the iris dataset from Plotly\n",
    "iris = px.data.iris()\n",
    "\n",
    "# Plot the distribution using Plotly Express\n",
    "fig = px.histogram(iris, x='sepal_length', marginal='density', title='Distribution Plot of Sepal Length')\n",
    "fig.show()\n"
   ]
  },
  {
   "cell_type": "code",
   "execution_count": null,
   "id": "cc878eda-938f-42c6-a3be-f7c3b952dffb",
   "metadata": {},
   "outputs": [],
   "source": []
  }
 ],
 "metadata": {
  "kernelspec": {
   "display_name": "Python 3 (ipykernel)",
   "language": "python",
   "name": "python3"
  },
  "language_info": {
   "codemirror_mode": {
    "name": "ipython",
    "version": 3
   },
   "file_extension": ".py",
   "mimetype": "text/x-python",
   "name": "python",
   "nbconvert_exporter": "python",
   "pygments_lexer": "ipython3",
   "version": "3.10.8"
  }
 },
 "nbformat": 4,
 "nbformat_minor": 5
}
