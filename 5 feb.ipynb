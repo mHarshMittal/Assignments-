{
 "cells": [
  {
   "cell_type": "raw",
   "id": "63b8ead2-5e7b-45cf-9882-2cf327fe44eb",
   "metadata": {},
   "source": [
    "Q1. Explain Class and Object with respect to Object-Oriented Programming. Give a suitable example.\n",
    "Q2. Name the four pillars of OOPs.\n",
    "Q3. Explain why the __init__() function is used. Give a suitable example.\n",
    "Q4. Why self is used in OOPs?\n",
    "Q5. What is inheritance? Give an example for each type of inheritance."
   ]
  },
  {
   "cell_type": "raw",
   "id": "bcedd267-58f9-4f58-819b-cc53478089a4",
   "metadata": {},
   "source": [
    "Q1. Class and Object\n",
    "Class: A class is like a blueprint for creating objects. It defines attributes and methods. For example, a Car class might define attributes like color and model, and methods like drive().\n",
    "\n",
    "Object: An object is an instance of a class. Using the Car class blueprint, you can create specific cars like my_car or your_car with distinct colors and models."
   ]
  },
  {
   "cell_type": "raw",
   "id": "6aeb5525-8ba2-490a-9445-c05fe3b83d0e",
   "metadata": {},
   "source": [
    "Q2. Four Pillars of OOP\n",
    "Encapsulation: Bundles data and methods into one unit (class). It hides the internal state.\n",
    "Abstraction: Shows only essential features and hides complex details.\n",
    "Inheritance: Allows a class to inherit attributes and methods from another class.\n",
    "Polymorphism: Allows methods to do different things based on the object that calls them."
   ]
  },
  {
   "cell_type": "raw",
   "id": "ad4acf13-718a-4c28-af34-631c63a29fff",
   "metadata": {},
   "source": [
    "Q3. Purpose of __init__()\n",
    "The __init__() function initializes a newly created object, setting up its initial state. It runs automatically when a new instance is created."
   ]
  },
  {
   "cell_type": "code",
   "execution_count": 1,
   "id": "67e99958-9de2-40d1-a741-a6b39e6cfaa7",
   "metadata": {},
   "outputs": [],
   "source": [
    "class Person:\n",
    "    def __init__(self, name, age):\n",
    "        self.name = name\n",
    "        self.age = age\n"
   ]
  },
  {
   "cell_type": "raw",
   "id": "b0699595-4e8a-4731-b8ee-b2269497cc9d",
   "metadata": {},
   "source": [
    "Q4. Purpose of self\n",
    "self refers to the current instance of the class. It allows access to the object's attributes and methods"
   ]
  },
  {
   "cell_type": "code",
   "execution_count": 2,
   "id": "322d42e3-ec5b-4c90-be97-d61352746a9a",
   "metadata": {},
   "outputs": [],
   "source": [
    "class Car:\n",
    "    def __init__(self, model):\n",
    "        self.model = model\n",
    "\n",
    "    def display(self):\n",
    "        return f\"Car model is {self.model}\"\n"
   ]
  },
  {
   "cell_type": "raw",
   "id": "53f18b0a-40b9-4380-95ef-705125a7b67f",
   "metadata": {},
   "source": [
    "Single Inheritance: A class inherits from one superclass.\n",
    "class Animal:\n",
    "    pass\n",
    "\n",
    "class Dog(Animal):\n",
    "    pass\n"
   ]
  },
  {
   "cell_type": "markdown",
   "id": "1d4586d8-4d1c-42fa-87e9-bd7d5b9a209b",
   "metadata": {},
   "source": [
    "Multiple Inheritance: A class inherits from more than one superclass."
   ]
  },
  {
   "cell_type": "code",
   "execution_count": 5,
   "id": "673f30cb-40df-4ce4-95d2-315a6cdd51df",
   "metadata": {},
   "outputs": [],
   "source": [
    "class Engine:\n",
    "    pass\n",
    "\n",
    "class Wheels:\n",
    "    pass\n",
    "\n",
    "class Car(Engine, Wheels):\n",
    "    pass\n"
   ]
  },
  {
   "cell_type": "code",
   "execution_count": 6,
   "id": "f0623bc3-a39e-4085-b959-366153247928",
   "metadata": {},
   "outputs": [],
   "source": [
    "class Animal:\n",
    "    pass\n",
    "\n",
    "class Mammal(Animal):\n",
    "    pass\n",
    "\n",
    "class Dog(Mammal):\n",
    "    pass\n"
   ]
  },
  {
   "cell_type": "raw",
   "id": "22f3dab6-24eb-4a92-bd18-b9471d6951fb",
   "metadata": {},
   "source": [
    "Hierarchical Inheritance: Multiple classes inherit from one superclass."
   ]
  },
  {
   "cell_type": "code",
   "execution_count": 8,
   "id": "a39ccdb3-b66a-43cc-a097-faa44da3aa14",
   "metadata": {},
   "outputs": [],
   "source": [
    "class Animal:\n",
    "    pass\n",
    "\n",
    "class Dog(Animal):\n",
    "    pass\n",
    "\n",
    "class Cat(Animal):\n",
    "    pass\n"
   ]
  },
  {
   "cell_type": "raw",
   "id": "19e3b9f3-8069-4cf5-a473-57aa21a587a9",
   "metadata": {},
   "source": [
    "Hybrid Inheritance: Combination of multiple inheritance types."
   ]
  },
  {
   "cell_type": "code",
   "execution_count": 9,
   "id": "fa52d8f1-c755-4b2d-b8f8-b96d35b4cfc1",
   "metadata": {},
   "outputs": [],
   "source": [
    "class Person:\n",
    "    pass\n",
    "\n",
    "class Employee(Person):\n",
    "    pass\n",
    "\n",
    "class Manager(Employee):\n",
    "    pass\n"
   ]
  },
  {
   "cell_type": "code",
   "execution_count": null,
   "id": "99ecf4ee-241a-42fb-b4a3-bb60a0f5ebf3",
   "metadata": {},
   "outputs": [],
   "source": []
  }
 ],
 "metadata": {
  "kernelspec": {
   "display_name": "Python 3 (ipykernel)",
   "language": "python",
   "name": "python3"
  },
  "language_info": {
   "codemirror_mode": {
    "name": "ipython",
    "version": 3
   },
   "file_extension": ".py",
   "mimetype": "text/x-python",
   "name": "python",
   "nbconvert_exporter": "python",
   "pygments_lexer": "ipython3",
   "version": "3.10.8"
  }
 },
 "nbformat": 4,
 "nbformat_minor": 5
}
