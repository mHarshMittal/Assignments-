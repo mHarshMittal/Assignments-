{
 "cells": [
  {
   "cell_type": "raw",
   "id": "cb2cde5d-7130-4257-9a76-befb0945b746",
   "metadata": {},
   "source": [
    "Q1. What is Multiprocessing in Python? Why is it Useful?\n",
    "Multiprocessing involves running multiple processes concurrently, each with its own memory space and Python interpreter. It’s useful for CPU-bound tasks to achieve true parallelism and bypass Python's Global Interpreter Lock (GIL).\n",
    "\n",
    "Q2. Differences Between Multiprocessing and Multithreading\n",
    "Resource Allocation:\n",
    "Multiprocessing: Separate memory space.\n",
    "Multithreading: Shared memory space.\n",
    "Parallelism:\n",
    "Multiprocessing: True parallelism.\n",
    "Multithreading: Limited by GIL.\n",
    "Overhead:\n",
    "Multiprocessing: Higher overhead.\n",
    "Multithreading: Lower overhead.\n",
    "Use Cases:\n",
    "Multiprocessing: CPU-bound tasks.\n",
    "Multithreading: I/O-bound tasks."
   ]
  },
  {
   "cell_type": "code",
   "execution_count": 1,
   "id": "2ce14036-a85b-4fb4-a261-92c37b80b7f7",
   "metadata": {},
   "outputs": [
    {
     "name": "stdout",
     "output_type": "stream",
     "text": [
      "Hello from a process!\n"
     ]
    }
   ],
   "source": [
    "from multiprocessing import Process\n",
    "\n",
    "def print_hello():\n",
    "    print(\"Hello from a process!\")\n",
    "\n",
    "if __name__ == '__main__':\n",
    "    p = Process(target=print_hello)\n",
    "    p.start()\n",
    "    p.join()\n"
   ]
  },
  {
   "cell_type": "raw",
   "id": "8c515b7a-2935-4852-a73b-c9201c66363c",
   "metadata": {},
   "source": [
    "Q4. What is a Multiprocessing Pool in Python? Why is it Used?\n",
    "A multiprocessing pool is a set of worker processes used to execute tasks in parallel. It simplifies managing multiple processes and reduces overhead by reusing processes."
   ]
  },
  {
   "cell_type": "code",
   "execution_count": 2,
   "id": "1a6ba842-f5a2-4e34-b0fc-66c4aa5ac7eb",
   "metadata": {},
   "outputs": [
    {
     "name": "stdout",
     "output_type": "stream",
     "text": [
      "[0, 1, 4, 9, 16, 25, 36, 49, 64, 81]\n"
     ]
    }
   ],
   "source": [
    "from multiprocessing import Pool\n",
    "\n",
    "def square(x):\n",
    "    return x * x\n",
    "\n",
    "if __name__ == '__main__':\n",
    "    with Pool(4) as p:\n",
    "        results = p.map(square, range(10))\n",
    "    print(results)\n"
   ]
  },
  {
   "cell_type": "code",
   "execution_count": 3,
   "id": "7454896a-3255-4603-8c95-8727920dff4c",
   "metadata": {},
   "outputs": [
    {
     "name": "stdout",
     "output_type": "stream",
     "text": [
      "Number: 1\n",
      "Number: 2\n",
      "Number: 3\n",
      "Number: 4\n"
     ]
    }
   ],
   "source": [
    "from multiprocessing import Process\n",
    "\n",
    "def print_number(number):\n",
    "    print(f\"Number: {number}\")\n",
    "\n",
    "if __name__ == '__main__':\n",
    "    numbers = [1, 2, 3, 4]\n",
    "    processes = [Process(target=print_number, args=(num,)) for num in numbers]\n",
    "    \n",
    "    for p in processes:\n",
    "        p.start()\n",
    "\n",
    "    for p in processes:\n",
    "        p.join()\n"
   ]
  },
  {
   "cell_type": "code",
   "execution_count": null,
   "id": "5d86bba0-9af9-41fe-9278-5338e87409b3",
   "metadata": {},
   "outputs": [],
   "source": []
  }
 ],
 "metadata": {
  "kernelspec": {
   "display_name": "Python 3 (ipykernel)",
   "language": "python",
   "name": "python3"
  },
  "language_info": {
   "codemirror_mode": {
    "name": "ipython",
    "version": 3
   },
   "file_extension": ".py",
   "mimetype": "text/x-python",
   "name": "python",
   "nbconvert_exporter": "python",
   "pygments_lexer": "ipython3",
   "version": "3.10.8"
  }
 },
 "nbformat": 4,
 "nbformat_minor": 5
}
