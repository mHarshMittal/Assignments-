{
 "cells": [
  {
   "cell_type": "raw",
   "id": "e3af64ae-c822-47b6-bcd6-f0d97d44382f",
   "metadata": {},
   "source": [
    "Q1. What is an API? Give an Example, Where an API is Used in Real Life.\n",
    "API: A set of rules for software applications to communicate.\n",
    "Example: A weather app using a weather API to show current conditions.\n",
    "Q2. Give Advantages and Disadvantages of Using API.\n",
    "Advantages:\n",
    "\n",
    "Efficiency: Streamlines integration.\n",
    "Scalability: Easily expands functionality.\n",
    "Flexibility: Connects with various services.\n",
    "Disadvantages:\n",
    "\n",
    "Dependency: Relies on third-party services.\n",
    "Security Risks: Potential vulnerabilities.\n",
    "Complexity: Can complicate system design.\n",
    "Q3. What is a Web API? Differentiate Between API and Web API.\n",
    "Web API: API accessed via web protocols (HTTP/HTTPS).\n",
    "API vs. Web API:\n",
    "API: General interface for software interaction.\n",
    "Web API: Specific type of API for web interactions.\n",
    "Q4. Explain REST and SOAP Architecture. Mention Shortcomings of SOAP.\n",
    "REST: Uses HTTP methods, is stateless, and often uses JSON.\n",
    "\n",
    "SOAP: Uses XML, is protocol-specific, and has built-in security.\n",
    "\n",
    "Shortcomings of SOAP: Complex, slower, and less flexible compared to REST.\n",
    "\n",
    "Q5. Differentiate Between REST and SOAP.\n",
    "Data Format:\n",
    "\n",
    "REST: JSON or XML.\n",
    "SOAP: XML only.\n",
    "Protocol:\n",
    "\n",
    "REST: HTTP.\n",
    "SOAP: HTTP or other protocols.\n",
    "Statefulness:\n",
    "\n",
    "REST: Stateless.\n",
    "SOAP: Can be stateful or stateless.\n",
    "Complexity:\n",
    "\n",
    "REST: Simpler.\n",
    "SOAP: More complex with additional standards."
   ]
  },
  {
   "cell_type": "code",
   "execution_count": null,
   "id": "d4d3b14e-4546-4133-a2be-e1bc06166eb2",
   "metadata": {},
   "outputs": [],
   "source": []
  }
 ],
 "metadata": {
  "kernelspec": {
   "display_name": "Python 3 (ipykernel)",
   "language": "python",
   "name": "python3"
  },
  "language_info": {
   "codemirror_mode": {
    "name": "ipython",
    "version": 3
   },
   "file_extension": ".py",
   "mimetype": "text/x-python",
   "name": "python",
   "nbconvert_exporter": "python",
   "pygments_lexer": "ipython3",
   "version": "3.10.8"
  }
 },
 "nbformat": 4,
 "nbformat_minor": 5
}
