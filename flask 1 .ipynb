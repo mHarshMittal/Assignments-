{
 "cells": [
  {
   "cell_type": "raw",
   "id": "9647e145-b1e7-41e1-a21e-f72d012a88cf",
   "metadata": {},
   "source": [
    "Q1. What is Flask Framework? What are the advantages of Flask Framework?\n",
    "Q2. Create a simple Flask application to display ‘Hello World!!’. Attach the screenshot of the output in\n",
    "Jupyter Notebook.\n",
    "Q3. What is App routing in Flask? Why do we use app routes?\n",
    "Q4. Create a “/welcome” route to display the welcome message “Welcome to ABC Corporation” and a “/”\n",
    "route to show the following details:\n",
    "Company Name: ABC Corporation\n",
    "Location: India\n",
    "Contact Detail: 999-999-9999\n",
    "Attach the screenshot of the output in Jupyter Notebook.\n",
    "Q5. What function is used in Flask for URL Building? Write a Python code to demonstrate the working of the\n",
    "url_for() function."
   ]
  },
  {
   "cell_type": "code",
   "execution_count": null,
   "id": "02a330be-16fa-4f37-9c4c-ba44462f722c",
   "metadata": {},
   "outputs": [],
   "source": []
  },
  {
   "cell_type": "raw",
   "id": "b7e3ea4d-3742-4eba-9503-4eed419f7a38",
   "metadata": {},
   "source": [
    "Q1. What is Flask Framework? What are the advantages of Flask Framework?\n",
    "Flask is a lightweight and flexible web framework for Python that allows developers to build web applications quickly with minimal boilerplate code. It provides the basics needed to get a web server up and running, and it's easy to extend with additional libraries.\n",
    "\n",
    "Advantages of Flask:\n",
    "\n",
    "Minimalist: Simple and easy to understand with minimal setup.\n",
    "Flexibility: Allows for easy integration with other tools and libraries.\n",
    "Extensible: Easy to add new features through extensions.\n",
    "Documentation: Well-documented and widely supported by the community."
   ]
  },
  {
   "cell_type": "code",
   "execution_count": null,
   "id": "64042c71-f304-4435-ad76-c1ea3b6a7aba",
   "metadata": {},
   "outputs": [],
   "source": []
  },
  {
   "cell_type": "code",
   "execution_count": null,
   "id": "b031f160-39e1-4421-b1a6-8542c96c3c26",
   "metadata": {},
   "outputs": [],
   "source": [
    "from flask import Flask\n",
    "\n",
    "app = Flask(__name__)\n",
    "\n",
    "@app.route('/')\n",
    "def hello_world():\n",
    "    return 'Hello World!!'\n",
    "\n",
    "if __name__ == '__main__':\n",
    "    app.run(debug=True)\n"
   ]
  },
  {
   "cell_type": "code",
   "execution_count": null,
   "id": "a2d9e7b7-2e8b-4a64-be5f-f67a4750a791",
   "metadata": {},
   "outputs": [],
   "source": []
  },
  {
   "cell_type": "raw",
   "id": "4f35d7ed-2411-4a8d-a97d-10b867f1d587",
   "metadata": {},
   "source": [
    "Q3. What is App routing in Flask? Why do we use app routes?\n",
    "App Routing in Flask maps URLs to functions. When a user accesses a specific URL, Flask routes the request to the associated function, which returns the response.\n",
    "\n",
    "Why use app routes:\n",
    "\n",
    "Organize code: Define how different URLs should be handled.\n",
    "Modularity: Easily manage different views and responses."
   ]
  },
  {
   "cell_type": "code",
   "execution_count": null,
   "id": "85b3c191-0220-4923-ac39-3ddcc28d6195",
   "metadata": {},
   "outputs": [],
   "source": []
  },
  {
   "cell_type": "code",
   "execution_count": null,
   "id": "153e5d7e-022f-403d-91a6-f1bbb09628a5",
   "metadata": {},
   "outputs": [],
   "source": [
    "from flask import Flask\n",
    "\n",
    "app = Flask(__name__)\n",
    "\n",
    "@app.route('/')\n",
    "def home():\n",
    "    return '''\n",
    "    Company Name: ABC Corporation<br>\n",
    "    Location: India<br>\n",
    "    Contact Detail: 999-999-9999\n",
    "    '''\n",
    "\n",
    "@app.route('/welcome')\n",
    "def welcome():\n",
    "    return 'Welcome to ABC Corporation'\n",
    "\n",
    "if __name__ == '__main__':\n",
    "    app.run(debug=True)\n"
   ]
  },
  {
   "cell_type": "code",
   "execution_count": null,
   "id": "84e6f3f8-960e-42b9-82b5-c233b7a51340",
   "metadata": {},
   "outputs": [],
   "source": []
  },
  {
   "cell_type": "code",
   "execution_count": null,
   "id": "2f74aa2a-ad5f-4f6f-a28d-251e92e301a3",
   "metadata": {},
   "outputs": [],
   "source": [
    "from flask import Flask, url_for\n",
    "\n",
    "app = Flask(__name__)\n",
    "\n",
    "@app.route('/')\n",
    "def home():\n",
    "    return 'Home Page'\n",
    "\n",
    "@app.route('/about')\n",
    "def about():\n",
    "    return 'About Page'\n",
    "\n",
    "@app.route('/redirect')\n",
    "def redirect_to_about():\n",
    "    return f'Redirecting to: {url_for(\"about\")}'\n",
    "\n",
    "if __name__ == '__main__':\n",
    "    app.run(debug=True)\n"
   ]
  },
  {
   "cell_type": "code",
   "execution_count": null,
   "id": "af9643fa-c1c7-4a30-bd40-6ec505d60bac",
   "metadata": {},
   "outputs": [],
   "source": []
  }
 ],
 "metadata": {
  "kernelspec": {
   "display_name": "Python 3 (ipykernel)",
   "language": "python",
   "name": "python3"
  },
  "language_info": {
   "codemirror_mode": {
    "name": "ipython",
    "version": 3
   },
   "file_extension": ".py",
   "mimetype": "text/x-python",
   "name": "python",
   "nbconvert_exporter": "python",
   "pygments_lexer": "ipython3",
   "version": "3.10.8"
  }
 },
 "nbformat": 4,
 "nbformat_minor": 5
}
