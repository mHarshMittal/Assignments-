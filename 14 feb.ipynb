{
 "cells": [
  {
   "cell_type": "raw",
   "id": "44e069e9-c94e-4b6f-9818-627e015a65f3",
   "metadata": {},
   "source": [
    "1. What is Multithreading in Python?\n",
    "Multithreading is a technique where multiple threads run concurrently within a single process. This allows for parallel execution of tasks, making programs more efficient, especially for I/O-bound tasks.\n",
    "\n",
    "Used for: Improving performance by running multiple operations simultaneously, such as handling multiple network requests or performing background tasks while the main program continues running.\n",
    "\n",
    "Module: Python's threading module is used to handle threads.\n",
    "\n",
    "Why threading module? It provides a higher-level interface for working with threads compared to the lower-level thread module. It simplifies thread management and synchronization.\n",
    "\n",
    "2. Functions in the threading Module\n",
    "activeCount(): Returns the number of Thread objects currently alive.\n",
    "\n",
    "currentThread(): Returns the current Thread object, corresponding to the caller's thread of control.\n",
    "\n",
    "enumerate(): Returns a list of all Thread objects currently alive.\n",
    "\n",
    "3. Thread Functions Explained\n",
    "run(): This method represents the thread's activity. It is called when you start a thread with start(). By default, it does nothing, but you can override it in a subclass of Thread.\n",
    "\n",
    "start(): Begins the thread's activity. It will call the run() method in a new thread of control.\n",
    "\n",
    "join(): Blocks the calling thread until the thread whose join() method is called terminates. Useful for waiting until a thread has completed its task.\n",
    "\n",
    "isAlive(): Checks if the thread is still alive. Returns True if the thread is still running, False otherwise."
   ]
  },
  {
   "cell_type": "code",
   "execution_count": 1,
   "id": "d97dd39b-c576-4451-8926-373472f68c8e",
   "metadata": {},
   "outputs": [
    {
     "name": "stdout",
     "output_type": "stream",
     "text": [
      "Squares: [0, 1, 4, 9, 16, 25, 36, 49, 64, 81]\n",
      "Cubes: [0, 1, 8, 27, 64, 125, 216, 343, 512, 729]\n"
     ]
    }
   ],
   "source": [
    "import threading\n",
    "\n",
    "def print_squares():\n",
    "    squares = [x*x for x in range(10)]\n",
    "    print(\"Squares:\", squares)\n",
    "\n",
    "def print_cubes():\n",
    "    cubes = [x*x*x for x in range(10)]\n",
    "    print(\"Cubes:\", cubes)\n",
    "\n",
    "# Create threads\n",
    "thread1 = threading.Thread(target=print_squares)\n",
    "thread2 = threading.Thread(target=print_cubes)\n",
    "\n",
    "# Start threads\n",
    "thread1.start()\n",
    "thread2.start()\n",
    "\n",
    "# Wait for threads to complete\n",
    "thread1.join()\n",
    "thread2.join()\n"
   ]
  },
  {
   "cell_type": "raw",
   "id": "83d4b2ee-90ca-4a9f-a30f-0dd6227aab6a",
   "metadata": {},
   "source": [
    "5. Advantages and Disadvantages of Multithreading\n",
    "Advantages:\n",
    "\n",
    "Improved Performance: Allows parallel execution of tasks.\n",
    "Responsiveness: Keeps the application responsive by running background tasks in separate threads.\n",
    "Disadvantages:\n",
    "\n",
    "Complexity: Increased complexity in managing thread synchronization.\n",
    "Overhead: More resource consumption and overhead due to context switching.\n",
    "Concurrency Issues: Potential for race conditions and deadlocks.\n",
    "6. Deadlocks and Race Conditions\n",
    "Deadlocks: Occur when two or more threads are waiting for each other to release resources, causing all of them to remain blocked indefinitely.\n",
    "\n",
    "Race Conditions: Happen when two or more threads access shared resources concurrently, and the outcome depends on the non-deterministic ordering of their execution. This can lead to inconsistent or incorrect results."
   ]
  },
  {
   "cell_type": "code",
   "execution_count": null,
   "id": "60770f1b-55f4-4d4c-b8e8-f501b63ec84d",
   "metadata": {},
   "outputs": [],
   "source": []
  }
 ],
 "metadata": {
  "kernelspec": {
   "display_name": "Python 3 (ipykernel)",
   "language": "python",
   "name": "python3"
  },
  "language_info": {
   "codemirror_mode": {
    "name": "ipython",
    "version": 3
   },
   "file_extension": ".py",
   "mimetype": "text/x-python",
   "name": "python",
   "nbconvert_exporter": "python",
   "pygments_lexer": "ipython3",
   "version": "3.10.8"
  }
 },
 "nbformat": 4,
 "nbformat_minor": 5
}
