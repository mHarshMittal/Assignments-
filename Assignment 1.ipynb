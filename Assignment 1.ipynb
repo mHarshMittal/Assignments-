{
 "cells": [
  {
   "cell_type": "markdown",
   "id": "b0a901aa-c6fc-4e6f-bd78-02343f1e79ce",
   "metadata": {},
   "source": [
    "#ASSIGNMENT 1 \n",
    "\n",
    "\n",
    "\n",
    "Q1. Which keyword is used to create a function? Create a function to return a list of odd numbers in the \n",
    "range of 1 to 25.\n",
    "\n",
    "ANS: \n",
    "The keyword used to create a function in python  programming languages is \"def\" \n"
   ]
  },
  {
   "cell_type": "code",
   "execution_count": 2,
   "id": "bd3e2e6a-98b0-447f-9c0e-c8077098fad9",
   "metadata": {},
   "outputs": [
    {
     "name": "stdout",
     "output_type": "stream",
     "text": [
      "[1, 3, 5, 7, 9, 11, 13, 15, 17, 19, 21, 23, 25]\n"
     ]
    }
   ],
   "source": [
    "def odd_num():\n",
    "    odd_numbers = []\n",
    "    for num in range(1, 26):\n",
    "        if num % 2 != 0:\n",
    "            odd_numbers.append(num)\n",
    "    return odd_numbers\n",
    "\n",
    "# Call the function and print the result\n",
    "print(odd_num())"
   ]
  },
  {
   "cell_type": "markdown",
   "id": "62311c88-15df-4a0b-b2cf-8fef6b287a8b",
   "metadata": {},
   "source": [
    "Q2. Why *args and **kwargs is used in some functions? Create a function each for *args and **kwargs \n",
    "to demonstrate their use."
   ]
  },
  {
   "cell_type": "markdown",
   "id": "65bb9d0e-8c7d-45eb-81ef-e955f5a470cd",
   "metadata": {},
   "source": [
    "ANS 2:   \n",
    "\n",
    "*args is used in a function to allow it to accept any number of positional arguments. It collects all the positional arguments into a tuple, which can then be accessed and used within the function.\n",
    "\n",
    "**kwargs is used in a function to allow it to accept any number of keyword arguments. It collects all the keyword arguments into a dictionary, where the keys are the argument names and the values are the corresponding values passed to the function.\n"
   ]
  },
  {
   "cell_type": "code",
   "execution_count": 5,
   "id": "ea9c0c98-5706-4418-9386-f18dfa6c20d4",
   "metadata": {},
   "outputs": [
    {
     "name": "stdout",
     "output_type": "stream",
     "text": [
      "15\n"
     ]
    }
   ],
   "source": [
    "def sum_numbers(*args):\n",
    "    total = 0\n",
    "    for num in args:\n",
    "        total += num\n",
    "    return total\n",
    "\n",
    "print(sum_numbers(1, 2, 3, 4, 5))\n"
   ]
  },
  {
   "cell_type": "code",
   "execution_count": 11,
   "id": "51c60292-d1d9-4a5c-a952-64373d7ac71d",
   "metadata": {},
   "outputs": [
    {
     "name": "stdout",
     "output_type": "stream",
     "text": [
      "name: John\n",
      "age: 25\n",
      "city: New York\n"
     ]
    }
   ],
   "source": [
    "def display_info(**kwargs):\n",
    "    for key, value in kwargs.items():\n",
    "        print(f\"{key}: {value}\")\n",
    "        \n",
    "display_info(name=\"John\", age=25, city=\"New York\")"
   ]
  },
  {
   "cell_type": "markdown",
   "id": "ba83c87a-effe-4e3e-99ce-e61a4844636f",
   "metadata": {},
   "source": [
    "Q3.  What is an iterator in python? Name the method used to initialise the iterator object and the method \n",
    "used for iteration. Use these methods to print the first five elements of the given list [2, 4, 6, 8, 10, 12, 14, \n",
    "16, 18, 20]."
   ]
  },
  {
   "cell_type": "markdown",
   "id": "c0e7bf34-4366-4026-af4f-69fe45ade8ec",
   "metadata": {},
   "source": [
    "ANS 3\n",
    "In Python, an iterator is an object that allows you to iterate over collections of data, such as lists, tuples, dictionaries, and sets.\n",
    "to initialize an iterator object in Python, you can use the iter() method\n",
    "To iterate through the elements of an iterator, you can use the next() method\n"
   ]
  },
  {
   "cell_type": "code",
   "execution_count": 14,
   "id": "213b9407-547e-4ce8-9873-e4641e8317e2",
   "metadata": {},
   "outputs": [
    {
     "name": "stdout",
     "output_type": "stream",
     "text": [
      "2\n",
      "4\n",
      "6\n",
      "8\n",
      "10\n"
     ]
    }
   ],
   "source": [
    "my_list = [2, 4, 6, 8, 10, 12, 14, 16, 18, 20]\n",
    "my_iterator = iter(my_list)\n",
    "for i in range(5):\n",
    "    element = next(my_iterator)\n",
    "    print(element)"
   ]
  },
  {
   "cell_type": "markdown",
   "id": "4bc201e1-b35b-49d7-9134-4d19a22236bb",
   "metadata": {},
   "source": [
    "Q4.  What is a generator function in python? Why yield keyword is used? Give an example of a generator \n",
    "function"
   ]
  },
  {
   "cell_type": "markdown",
   "id": "9ee25e31-bb3c-4a9e-b018-1a3c2cf5b791",
   "metadata": {},
   "source": [
    "In Python, a generator function is a special type of function that returns an iterator, which can be used to generate a sequence of values. Instead of returning a single value and terminating, a generator function can yield multiple values, one at a time\n",
    "The yield keyword is used in a generator function to define points at which the function will yield a value. When the yield statement is executed, the current state of the function is saved, and the yielded value is returned\n",
    "\n"
   ]
  },
  {
   "cell_type": "code",
   "execution_count": 15,
   "id": "6eaaa90f-805d-483d-b804-e3bb9f3ab65a",
   "metadata": {},
   "outputs": [
    {
     "name": "stdout",
     "output_type": "stream",
     "text": [
      "0\n",
      "2\n",
      "4\n",
      "6\n",
      "8\n",
      "10\n"
     ]
    }
   ],
   "source": [
    "def even(limit):\n",
    "    num = 0\n",
    "    while num <= limit:\n",
    "        yield num\n",
    "        num += 2\n",
    "even_generator = even(10)\n",
    "for number in even_generator:\n",
    "    print(number)\n"
   ]
  },
  {
   "cell_type": "markdown",
   "id": "b85f2978-ae6c-47fc-8933-7fb601d5ba67",
   "metadata": {},
   "source": [
    "Q5. Create a generator function for prime numbers less than 1000. Use the next() method to print the \n",
    "first 20 prime numbers"
   ]
  },
  {
   "cell_type": "code",
   "execution_count": 23,
   "id": "c0793809-a25e-462e-9292-5bfe96e92f8b",
   "metadata": {},
   "outputs": [
    {
     "name": "stdout",
     "output_type": "stream",
     "text": [
      "2\n",
      "3\n",
      "5\n",
      "7\n",
      "11\n",
      "13\n",
      "17\n",
      "19\n",
      "23\n",
      "29\n",
      "31\n",
      "37\n",
      "41\n",
      "43\n",
      "47\n",
      "53\n",
      "59\n",
      "61\n",
      "67\n",
      "71\n"
     ]
    }
   ],
   "source": [
    "def generate_prime_numbers():\n",
    "    for num in range(2, 1000):\n",
    "        if is_prime(num):\n",
    "            yield num\n",
    "\n",
    "def is_prime(num):\n",
    "    if num < 2:\n",
    "        return False\n",
    "    for i in range(2, int(num ** 0.5) + 1):\n",
    "        if num % i == 0:\n",
    "            return False\n",
    "    return True\n",
    "    \n",
    "# Create a generator object\n",
    "prime_generator = generate_prime_numbers()\n",
    "\n",
    "# Print the first 20 prime numbers using next() method\n",
    "for _ in range(20):\n",
    "    prime_number = next(prime_generator)\n",
    "    print(prime_number)    \n",
    "    "
   ]
  },
  {
   "cell_type": "markdown",
   "id": "c2268bf8-2818-4742-a90c-9527f8961f5c",
   "metadata": {},
   "source": [
    "Q6. Write a python program to print the first 10 Fibonacci numbers using a while loop"
   ]
  },
  {
   "cell_type": "code",
   "execution_count": 24,
   "id": "cd148820-7507-4f98-9621-d0b9a98d2cef",
   "metadata": {},
   "outputs": [
    {
     "name": "stdout",
     "output_type": "stream",
     "text": [
      "0\n",
      "1\n",
      "1\n",
      "2\n",
      "3\n",
      "5\n",
      "8\n",
      "13\n",
      "21\n",
      "34\n"
     ]
    }
   ],
   "source": [
    "def print_fibonacci():\n",
    "    count = 0\n",
    "    a, b = 0, 1\n",
    "\n",
    "    while count < 10:\n",
    "        print(a)\n",
    "\n",
    "      \n",
    "        a, b = b, a + b\n",
    "\n",
    "        count += 1\n",
    "\n",
    "# Call the function to print the Fibonacci numbers\n",
    "print_fibonacci()"
   ]
  },
  {
   "cell_type": "markdown",
   "id": "b4eb5f67-800e-47e6-912b-df017cf50b8a",
   "metadata": {},
   "source": [
    "Q7. Write a List Comprehension to iterate through the given string: ‘pwskills’.\n",
    "\n"
   ]
  },
  {
   "cell_type": "code",
   "execution_count": 26,
   "id": "14df81d3-fc60-4909-8771-b16c8610461e",
   "metadata": {},
   "outputs": [
    {
     "name": "stdout",
     "output_type": "stream",
     "text": [
      "['p', 'w', 's', 'k', 'i', 'l', 'l', 's']\n"
     ]
    }
   ],
   "source": [
    "string = 'pwskills'\n",
    "\n",
    "result = [char for char in string]\n",
    "\n",
    "print(result)"
   ]
  },
  {
   "cell_type": "markdown",
   "id": "b6ceb235-87b8-4f43-aef6-7253a02432d7",
   "metadata": {},
   "source": [
    "Q8. Write a python program to check whether a given number is Palindrome or not using a while loop."
   ]
  },
  {
   "cell_type": "code",
   "execution_count": 27,
   "id": "c6f238a3-41d9-4a56-af4d-42f0c34a584f",
   "metadata": {},
   "outputs": [
    {
     "name": "stdin",
     "output_type": "stream",
     "text": [
      "Enter a number:  12321\n"
     ]
    },
    {
     "name": "stdout",
     "output_type": "stream",
     "text": [
      "12321 is a palindrome\n"
     ]
    }
   ],
   "source": [
    "def is_palindrome(num):\n",
    "    orig = num\n",
    "    rev = 0\n",
    "\n",
    "    while num > 0:\n",
    "        digit = num % 10\n",
    "        rev = rev * 10 + digit\n",
    "        num //= 10\n",
    "\n",
    "    if orig == rev:\n",
    "        return True\n",
    "    else:\n",
    "        return False\n",
    "\n",
    "number = int(input(\"Enter a number: \"))\n",
    "\n",
    "if is_palindrome(number):\n",
    "    print(number, \"is a palindrome\")\n",
    "else:\n",
    "    print(number, \"is not a palindrome\")\n"
   ]
  },
  {
   "cell_type": "markdown",
   "id": "fde0b790-fed9-48ad-b3ad-c25b35ec6d34",
   "metadata": {},
   "source": [
    "Q9. Write a code to print odd numbers from 1 to 100 using list comprehension.\n",
    "\n",
    "Note: Use a list comprehension to create a list from 1 to 100 and use another List comprehension to filter \n",
    "out odd numbers."
   ]
  },
  {
   "cell_type": "code",
   "execution_count": 28,
   "id": "0829b5ab-b0e4-454e-924c-87708db881da",
   "metadata": {},
   "outputs": [
    {
     "name": "stdout",
     "output_type": "stream",
     "text": [
      "[1, 3, 5, 7, 9, 11, 13, 15, 17, 19, 21, 23, 25, 27, 29, 31, 33, 35, 37, 39, 41, 43, 45, 47, 49, 51, 53, 55, 57, 59, 61, 63, 65, 67, 69, 71, 73, 75, 77, 79, 81, 83, 85, 87, 89, 91, 93, 95, 97, 99]\n"
     ]
    }
   ],
   "source": [
    "numbers = [num for num in range(1, 101)]\n",
    "odd_numbers = [num for num in numbers if num % 2 != 0]\n",
    "\n",
    "print(odd_numbers)\n"
   ]
  },
  {
   "cell_type": "code",
   "execution_count": null,
   "id": "3aa3b106-232e-45d7-9ea5-3575f762829e",
   "metadata": {},
   "outputs": [],
   "source": []
  }
 ],
 "metadata": {
  "kernelspec": {
   "display_name": "Python 3 (ipykernel)",
   "language": "python",
   "name": "python3"
  },
  "language_info": {
   "codemirror_mode": {
    "name": "ipython",
    "version": 3
   },
   "file_extension": ".py",
   "mimetype": "text/x-python",
   "name": "python",
   "nbconvert_exporter": "python",
   "pygments_lexer": "ipython3",
   "version": "3.10.8"
  }
 },
 "nbformat": 4,
 "nbformat_minor": 5
}
