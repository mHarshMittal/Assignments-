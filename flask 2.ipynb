{
 "cells": [
  {
   "cell_type": "raw",
   "id": "256efa72-1430-4c5a-9a16-a61008123be0",
   "metadata": {},
   "source": [
    "Q1. Explain GET and POST methods.\n",
    "GET:\n",
    "\n",
    "Used to request data from a specified resource.\n",
    "Data is sent in the URL, making it visible.\n",
    "Typically used for retrieving data without causing any side effects (i.e., it should be idempotent).\n",
    "POST:\n",
    "\n",
    "Used to submit data to be processed to a specified resource.\n",
    "Data is sent in the body of the request, making it not visible in the URL.\n",
    "Typically used for actions that modify data or have side effects (e.g., form submissions).\n",
    "Q2. Why is request used in Flask?\n",
    "request in Flask is used to handle incoming data from the client. It provides access to various parts of the HTTP request, such as:\n",
    "\n",
    "Query parameters (request.args)\n",
    "Form data (request.form)\n",
    "JSON data (request.json)\n",
    "HTTP headers (request.headers)\n",
    "Files (request.files)\n",
    "It helps to retrieve and work with data sent by the client in a request.\n",
    "\n",
    "Q3. Why is redirect() used in Flask?\n",
    "redirect() is used to redirect the client to a different URL. It generates a response that tells the browser to navigate to another location, typically used to:\n",
    "\n",
    "Redirect users after form submissions to avoid duplicate submissions.\n",
    "Send users to a different page after a specific action (e.g., login).\n",
    "Q4. What are templates in Flask? Why is the render_template() function used?\n",
    "Templates in Flask are HTML files that are used to render the dynamic content of web pages. They allow you to separate your HTML from your Python code, making your application more maintainable and organized.\n",
    "\n",
    "render_template() is used to:\n",
    "\n",
    "Render a template file and return it as a response.\n",
    "Pass data from the Flask view function to the template, which can then be used to dynamically generate HTML.\n",
    "Q5. Create a simple API. Use Postman to test it. Attach the screenshot of the output in the Jupyter Notebook.\n",
    "Here's an example of a simple Flask API with a /api/data endpoint:"
   ]
  },
  {
   "cell_type": "code",
   "execution_count": 1,
   "id": "a1953dac-f34c-485f-b2ee-6a7bb5666a4c",
   "metadata": {},
   "outputs": [
    {
     "ename": "ModuleNotFoundError",
     "evalue": "No module named 'flask'",
     "output_type": "error",
     "traceback": [
      "\u001b[0;31m---------------------------------------------------------------------------\u001b[0m",
      "\u001b[0;31mModuleNotFoundError\u001b[0m                       Traceback (most recent call last)",
      "Cell \u001b[0;32mIn[1], line 1\u001b[0m\n\u001b[0;32m----> 1\u001b[0m \u001b[38;5;28;01mfrom\u001b[39;00m \u001b[38;5;21;01mflask\u001b[39;00m \u001b[38;5;28;01mimport\u001b[39;00m Flask, jsonify, request\n\u001b[1;32m      3\u001b[0m app \u001b[38;5;241m=\u001b[39m Flask(\u001b[38;5;18m__name__\u001b[39m)\n\u001b[1;32m      5\u001b[0m \u001b[38;5;129m@app\u001b[39m\u001b[38;5;241m.\u001b[39mroute(\u001b[38;5;124m'\u001b[39m\u001b[38;5;124m/api/data\u001b[39m\u001b[38;5;124m'\u001b[39m, methods\u001b[38;5;241m=\u001b[39m[\u001b[38;5;124m'\u001b[39m\u001b[38;5;124mGET\u001b[39m\u001b[38;5;124m'\u001b[39m])\n\u001b[1;32m      6\u001b[0m \u001b[38;5;28;01mdef\u001b[39;00m \u001b[38;5;21mget_data\u001b[39m():\n",
      "\u001b[0;31mModuleNotFoundError\u001b[0m: No module named 'flask'"
     ]
    }
   ],
   "source": [
    "from flask import Flask, jsonify, request\n",
    "\n",
    "app = Flask(__name__)\n",
    "\n",
    "@app.route('/api/data', methods=['GET'])\n",
    "def get_data():\n",
    "    data = {\n",
    "        'message': 'Hello, this is a GET request!',\n",
    "        'status': 'success'\n",
    "    }\n",
    "    return jsonify(data)\n",
    "\n",
    "if __name__ == '__main__':\n",
    "    app.run(debug=True)\n"
   ]
  },
  {
   "cell_type": "code",
   "execution_count": null,
   "id": "9e49c919-02e9-4c9c-8b03-b26594cd7111",
   "metadata": {},
   "outputs": [],
   "source": []
  }
 ],
 "metadata": {
  "kernelspec": {
   "display_name": "Python 3 (ipykernel)",
   "language": "python",
   "name": "python3"
  },
  "language_info": {
   "codemirror_mode": {
    "name": "ipython",
    "version": 3
   },
   "file_extension": ".py",
   "mimetype": "text/x-python",
   "name": "python",
   "nbconvert_exporter": "python",
   "pygments_lexer": "ipython3",
   "version": "3.10.8"
  }
 },
 "nbformat": 4,
 "nbformat_minor": 5
}
