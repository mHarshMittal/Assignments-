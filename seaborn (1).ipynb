{
 "cells": [
  {
   "cell_type": "raw",
   "id": "cb244fad-cee9-40d3-b076-1dc24c847765",
   "metadata": {},
   "source": [
    "Q1: Name any five plots that we can plot using the Seaborn library. Also, state the uses of each plot.\n",
    "Scatter Plot (sns.scatterplot()): Visualizes the relationship between two numerical variables.\n",
    "Line Plot (sns.lineplot()): Shows trends over time or ordered categories.\n",
    "Box Plot (sns.boxplot()): Displays the distribution of data based on quartiles and highlights outliers.\n",
    "Histogram (sns.histplot()): Illustrates the distribution of a single numerical variable.\n",
    "Pair Plot (sns.pairplot()): Provides pairwise relationships between numerical variables in a dataset."
   ]
  },
  {
   "cell_type": "code",
   "execution_count": null,
   "id": "ed6bb3c7-5b79-4875-abb9-5bfc5477b06e",
   "metadata": {},
   "outputs": [],
   "source": []
  },
  {
   "cell_type": "code",
   "execution_count": null,
   "id": "29ee716e-db1a-48ee-90aa-61eb29f89763",
   "metadata": {},
   "outputs": [],
   "source": [
    "import seaborn as sns\n",
    "import matplotlib.pyplot as plt\n",
    "\n",
    "# Load the fmri dataset\n",
    "fmri = sns.load_dataset('fmri')\n",
    "\n",
    "# Plot the line plot\n",
    "plt.figure(figsize=(10, 6))\n",
    "sns.lineplot(data=fmri, x='timepoint', y='signal', hue='event', style='region')\n",
    "plt.title('Line Plot of Signal Over Time by Event and Region')\n",
    "plt.xlabel('Timepoint')\n",
    "plt.ylabel('Signal')\n",
    "plt.show()\n"
   ]
  },
  {
   "cell_type": "code",
   "execution_count": null,
   "id": "6387cca4-0f3c-46b3-9734-b98d9a098a98",
   "metadata": {},
   "outputs": [],
   "source": []
  },
  {
   "cell_type": "code",
   "execution_count": null,
   "id": "77fe377a-b3d3-4ba1-b135-164ec97badf8",
   "metadata": {},
   "outputs": [],
   "source": [
    "import seaborn as sns\n",
    "import matplotlib.pyplot as plt\n",
    "\n",
    "# Load the titanic dataset\n",
    "titanic = sns.load_dataset('titanic')\n",
    "\n",
    "# Plot the first box plot\n",
    "plt.figure(figsize=(14, 6))\n",
    "plt.subplot(1, 2, 1)\n",
    "sns.boxplot(data=titanic, x='pclass', y='age')\n",
    "plt.title('Box Plot of Age by Pclass')\n",
    "plt.xlabel('Pclass')\n",
    "plt.ylabel('Age')\n",
    "\n",
    "# Plot the second box plot\n",
    "plt.subplot(1, 2, 2)\n",
    "sns.boxplot(data=titanic, x='pclass', y='fare')\n",
    "plt.title('Box Plot of Fare by Pclass')\n",
    "plt.xlabel('Pclass')\n",
    "plt.ylabel('Fare')\n",
    "\n",
    "plt.tight_layout()\n",
    "plt.show()\n"
   ]
  },
  {
   "cell_type": "code",
   "execution_count": null,
   "id": "13d0f20a-e14b-46bc-a82d-007a7b6acff9",
   "metadata": {},
   "outputs": [],
   "source": []
  },
  {
   "cell_type": "code",
   "execution_count": null,
   "id": "97ebf3e4-2dcc-4223-8a89-3501bbbf0718",
   "metadata": {},
   "outputs": [],
   "source": [
    "import seaborn as sns\n",
    "import matplotlib.pyplot as plt\n",
    "\n",
    "# Load the diamonds dataset\n",
    "diamonds = sns.load_dataset('diamonds')\n",
    "\n",
    "# Plot the histogram\n",
    "plt.figure(figsize=(10, 6))\n",
    "sns.histplot(data=diamonds, x='price', hue='cut', multiple='stack', bins=30)\n",
    "plt.title('Histogram of Diamond Prices by Cut')\n",
    "plt.xlabel('Price')\n",
    "plt.ylabel('Count')\n",
    "plt.show()\n"
   ]
  },
  {
   "cell_type": "code",
   "execution_count": null,
   "id": "87220b4a-0b94-4ca2-9e05-24250d3b15d3",
   "metadata": {},
   "outputs": [],
   "source": []
  },
  {
   "cell_type": "code",
   "execution_count": null,
   "id": "34b78352-472d-4838-a581-f5115f7efcc4",
   "metadata": {},
   "outputs": [],
   "source": [
    "import seaborn as sns\n",
    "import matplotlib.pyplot as plt\n",
    "\n",
    "# Load the iris dataset\n",
    "iris = sns.load_dataset('iris')\n",
    "\n",
    "# Plot the pair plot\n",
    "sns.pairplot(iris, hue='species')\n",
    "plt.title('Pair Plot of Iris Dataset')\n",
    "plt.show()\n"
   ]
  },
  {
   "cell_type": "code",
   "execution_count": null,
   "id": "9e1995e1-1d37-4b8f-a02e-5c38508cf17c",
   "metadata": {},
   "outputs": [],
   "source": []
  },
  {
   "cell_type": "code",
   "execution_count": null,
   "id": "96f63a30-fa8c-452c-9b74-c2ff0c15bc15",
   "metadata": {},
   "outputs": [],
   "source": [
    "import seaborn as sns\n",
    "import matplotlib.pyplot as plt\n",
    "\n",
    "# Load the flights dataset\n",
    "flights = sns.load_dataset('flights')\n",
    "\n",
    "# Pivot the data to a suitable format for the heatmap\n",
    "flights_pivot = flights.pivot_table(index='month', columns='year', values='passengers')\n",
    "\n",
    "# Plot the heatmap\n",
    "plt.figure(figsize=(12, 8))\n",
    "sns.heatmap(flights_pivot, cmap='YlGnBu', annot=True, fmt='g')\n",
    "plt.title('Heatmap of Monthly Airline Passengers')\n",
    "plt.xlabel('Year')\n",
    "plt.ylabel('Month')\n",
    "plt.show()\n"
   ]
  },
  {
   "cell_type": "code",
   "execution_count": null,
   "id": "cf9a59bd-82ca-4f3c-9203-91ba0c3cb2f6",
   "metadata": {},
   "outputs": [],
   "source": []
  },
  {
   "cell_type": "code",
   "execution_count": null,
   "id": "1aa1eaf1-70cd-4886-a5aa-d1f57d1d98a5",
   "metadata": {},
   "outputs": [],
   "source": []
  }
 ],
 "metadata": {
  "kernelspec": {
   "display_name": "Python 3 (ipykernel)",
   "language": "python",
   "name": "python3"
  },
  "language_info": {
   "codemirror_mode": {
    "name": "ipython",
    "version": 3
   },
   "file_extension": ".py",
   "mimetype": "text/x-python",
   "name": "python",
   "nbconvert_exporter": "python",
   "pygments_lexer": "ipython3",
   "version": "3.10.8"
  }
 },
 "nbformat": 4,
 "nbformat_minor": 5
}
