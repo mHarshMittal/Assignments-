{
 "cells": [
  {
   "cell_type": "raw",
   "id": "a87679b6-8747-4b71-9d5f-7ac9ad63705e",
   "metadata": {},
   "source": [
    "Q1. What is MongoDB? Explain Non-relational Databases in Short. In Which Scenarios is MongoDB Preferred Over SQL Databases?\n",
    "MongoDB: A NoSQL database that stores data in flexible JSON-like documents.\n",
    "Non-relational Databases: Store data in various formats (e.g., documents, key-value pairs) without a fixed schema.\n",
    "Preferred When: Schema flexibility is needed, handling large volumes of diverse data, or high performance is crucial.\n",
    "Q2. State and Explain the Features of MongoDB.\n",
    "Document-oriented: Stores data as JSON-like documents.\n",
    "Flexible Schema: No fixed structure; data can vary.\n",
    "Scalable: Supports horizontal scaling.\n",
    "High Performance: Fast read and write operations.\n",
    "Replication: Data redundancy with replica sets.\n",
    "Indexing: Fast queries with various indexing options.\n",
    "Aggregation: Advanced data processing capabilities.\n",
    "Q3. Write a Code to Connect MongoDB to Python. Also, Create a Database and a Collection in MongoDB.\n",
    "Connect to MongoDB: Use MongoClient from the pymongo library.\n",
    "Create Database and Collection: Access or create a database and collection by referencing them through the MongoClient connection.\n",
    "Q4. Using the Database and Collection Created in Question Number 3, Write a Code to Insert One Record and Insert Many Records. Use the find() and find_one() Methods to Print the Inserted Record.\n",
    "Insert Records: Use insert_one() to add a single document and insert_many() for multiple documents.\n",
    "Retrieve Records: Use find_one() to get a single document and find() to retrieve multiple documents.\n",
    "Q5. Explain How You Can Use the find() Method to Query the MongoDB Database. Write a Simple Code to Demonstrate This.\n",
    "find() Method: Retrieves documents that match the query criteria.\n",
    "Q6. Explain the sort() Method. Give an Example to Demonstrate Sorting in MongoDB.\n",
    "sort() Method: Orders the query results by specified fields in ascending or descending order.\n",
    "Q7. Explain Why delete_one(), delete_many(), and drop() are Used.\n",
    "delete_one(): Removes a single document that matches the query.\n",
    "delete_many(): Removes multiple documents that match the query.\n",
    "drop(): Deletes the entire collection, including all documents."
   ]
  },
  {
   "cell_type": "code",
   "execution_count": null,
   "id": "21b5876e-a986-4c81-9db1-f27fb3fe6b17",
   "metadata": {},
   "outputs": [],
   "source": []
  }
 ],
 "metadata": {
  "kernelspec": {
   "display_name": "Python 3 (ipykernel)",
   "language": "python",
   "name": "python3"
  },
  "language_info": {
   "codemirror_mode": {
    "name": "ipython",
    "version": 3
   },
   "file_extension": ".py",
   "mimetype": "text/x-python",
   "name": "python",
   "nbconvert_exporter": "python",
   "pygments_lexer": "ipython3",
   "version": "3.10.8"
  }
 },
 "nbformat": 4,
 "nbformat_minor": 5
}
