{
 "cells": [
  {
   "cell_type": "raw",
   "id": "beccb60e-3faa-4180-b175-8c65674cd8dc",
   "metadata": {},
   "source": [
    "### Q1. What is Abstraction in OOP? Explain with an Example\n",
    "\n",
    "Abstraction hides the complex implementation details and shows only the essential features.\n",
    "\n",
    "Example: A `Shape` class with an abstract method `area()`. Specific shapes like `Circle` and `Rectangle` implement the `area()` method in their own way.\n",
    "\n",
    "### Q2. Differentiate Between Abstraction and Encapsulation\n",
    "\n",
    "Abstraction hides implementation details and shows only necessary features. Encapsulation bundles data and methods into one unit and restricts direct access.\n",
    "\n",
    "Example of Abstraction: A `Shape` class defines an abstract method `area()`.\n",
    "\n",
    "Example of Encapsulation: A `BankAccount` class with a private `balance` attribute and public methods to modify it.\n",
    "\n",
    "### Q3. What is the `abc` Module in Python? Why is it Used?\n",
    "\n",
    "The `abc` module provides tools for defining abstract classes. It ensures that derived classes implement specific methods defined in the abstract base class.\n",
    "\n",
    "Usage: It helps create a common interface and enforces method implementation in subclasses.\n",
    "\n",
    "### Q4. How Can We Achieve Data Abstraction?\n",
    "\n",
    "Data abstraction can be achieved by:\n",
    "- Using abstract classes and methods.\n",
    "- Hiding implementation details with private attributes.\n",
    "- Providing a clear interface.\n",
    "\n",
    "Example: An abstract `Animal` class with an abstract method `sound()`, which subclasses like `Dog` must implement.\n",
    "\n",
    "### Q5. Can We Create an Instance of an Abstract Class? Explain Your Answer\n",
    "\n",
    "No, you can’t create an instance of an abstract class. Abstract classes are incomplete and meant to be subclassed. Attempting to instantiate one will raise an error."
   ]
  }
 ],
 "metadata": {
  "kernelspec": {
   "display_name": "Python 3 (ipykernel)",
   "language": "python",
   "name": "python3"
  },
  "language_info": {
   "codemirror_mode": {
    "name": "ipython",
    "version": 3
   },
   "file_extension": ".py",
   "mimetype": "text/x-python",
   "name": "python",
   "nbconvert_exporter": "python",
   "pygments_lexer": "ipython3",
   "version": "3.10.8"
  }
 },
 "nbformat": 4,
 "nbformat_minor": 5
}
