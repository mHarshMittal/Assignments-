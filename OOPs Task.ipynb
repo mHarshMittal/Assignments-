{
 "cells": [
  {
   "cell_type": "code",
   "execution_count": 1,
   "id": "aa97edcc-19ce-44c1-8f2a-e2739746212f",
   "metadata": {},
   "outputs": [
    {
     "name": "stdout",
     "output_type": "stream",
     "text": [
      "Sedan\n",
      "180\n",
      "15\n"
     ]
    }
   ],
   "source": [
    "class Vehicle:\n",
    "    def __init__(self, name_of_vehicle, max_speed, average_of_vehicle):\n",
    "        self.name_of_vehicle = name_of_vehicle\n",
    "        self.max_speed = max_speed\n",
    "        self.average_of_vehicle = average_of_vehicle\n",
    "\n",
    "# Example usage:\n",
    "car = Vehicle(\"Sedan\", 180, 15)\n",
    "print(car.name_of_vehicle)  # Output: Sedan\n",
    "print(car.max_speed)        # Output: 180\n",
    "print(car.average_of_vehicle)  # Output: 15\n"
   ]
  },
  {
   "cell_type": "code",
   "execution_count": 2,
   "id": "cc60e6b9-53ea-4853-90e9-6872226448a8",
   "metadata": {},
   "outputs": [
    {
     "name": "stdout",
     "output_type": "stream",
     "text": [
      "The Sedan has a seating capacity of 5.\n"
     ]
    }
   ],
   "source": [
    "class Car(Vehicle):\n",
    "    def seating_capacity(self, capacity):\n",
    "        return f\"The {self.name_of_vehicle} has a seating capacity of {capacity}.\"\n",
    "\n",
    "# Example usage:\n",
    "my_car = Car(\"Sedan\", 180, 15)\n",
    "print(my_car.seating_capacity(5))  # Output: The Sedan has a seating capacity of 5.\n"
   ]
  },
  {
   "cell_type": "code",
   "execution_count": 3,
   "id": "63c14581-67f9-42f8-ba65-ff320915dfde",
   "metadata": {},
   "outputs": [
    {
     "name": "stdout",
     "output_type": "stream",
     "text": [
      "Sedan has 4 wheels and an V6 engine.\n"
     ]
    }
   ],
   "source": [
    "class Engine:\n",
    "    def engine_type(self):\n",
    "        return \"V6\"\n",
    "\n",
    "class Wheels:\n",
    "    def number_of_wheels(self):\n",
    "        return 4\n",
    "\n",
    "class Car(Engine, Wheels):\n",
    "    def __init__(self, name):\n",
    "        self.name = name\n",
    "\n",
    "    def car_info(self):\n",
    "        return f\"{self.name} has {self.number_of_wheels()} wheels and an {self.engine_type()} engine.\"\n",
    "\n",
    "# Example usage:\n",
    "my_car = Car(\"Sedan\")\n",
    "print(my_car.car_info())  # Output: Sedan has 4 wheels and an V6 engine.\n"
   ]
  },
  {
   "cell_type": "code",
   "execution_count": 4,
   "id": "c42d12b4-d91f-4409-87af-c1d9c4d2d4b9",
   "metadata": {},
   "outputs": [
    {
     "name": "stdout",
     "output_type": "stream",
     "text": [
      "John\n",
      "Jane\n",
      "Name cannot be empty\n"
     ]
    }
   ],
   "source": [
    "class Person:\n",
    "    def __init__(self, name):\n",
    "        self._name = name  # Private attribute\n",
    "\n",
    "    # Getter\n",
    "    @property\n",
    "    def name(self):\n",
    "        return self._name\n",
    "\n",
    "    # Setter\n",
    "    @name.setter\n",
    "    def name(self, value):\n",
    "        if value:\n",
    "            self._name = value\n",
    "        else:\n",
    "            print(\"Name cannot be empty\")\n",
    "\n",
    "# Example usage:\n",
    "p = Person(\"John\")\n",
    "print(p.name)  # Output: John\n",
    "\n",
    "p.name = \"Jane\"  # Using setter\n",
    "print(p.name)  # Output: Jane\n",
    "\n",
    "p.name = \"\"  # Invalid input\n",
    "# Output: Name cannot be empty\n"
   ]
  },
  {
   "cell_type": "code",
   "execution_count": 5,
   "id": "76e10a6d-c16d-49fb-8799-049cbd54f8fe",
   "metadata": {},
   "outputs": [
    {
     "name": "stdout",
     "output_type": "stream",
     "text": [
      "Animal speaks\n",
      "Woof Woof\n",
      "Meow\n"
     ]
    }
   ],
   "source": [
    "class Animal:\n",
    "    def speak(self):\n",
    "        return \"Animal speaks\"\n",
    "\n",
    "class Dog(Animal):\n",
    "    def speak(self):\n",
    "        return \"Woof Woof\"\n",
    "\n",
    "class Cat(Animal):\n",
    "    def speak(self):\n",
    "        return \"Meow\"\n",
    "\n",
    "# Example usage:\n",
    "a = Animal()\n",
    "d = Dog()\n",
    "c = Cat()\n",
    "\n",
    "print(a.speak())  # Output: Animal speaks\n",
    "print(d.speak())  # Output: Woof Woof\n",
    "print(c.speak())  # Output: Meow\n"
   ]
  },
  {
   "cell_type": "code",
   "execution_count": null,
   "id": "7ee2c86c-2e5c-415e-956e-6be1caa62085",
   "metadata": {},
   "outputs": [],
   "source": []
  }
 ],
 "metadata": {
  "kernelspec": {
   "display_name": "Python 3 (ipykernel)",
   "language": "python",
   "name": "python3"
  },
  "language_info": {
   "codemirror_mode": {
    "name": "ipython",
    "version": 3
   },
   "file_extension": ".py",
   "mimetype": "text/x-python",
   "name": "python",
   "nbconvert_exporter": "python",
   "pygments_lexer": "ipython3",
   "version": "3.10.8"
  }
 },
 "nbformat": 4,
 "nbformat_minor": 5
}
